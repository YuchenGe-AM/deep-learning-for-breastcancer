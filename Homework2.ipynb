{
 "cells": [
  {
   "cell_type": "markdown",
   "id": "sensitive-shame",
   "metadata": {},
   "source": [
    "## 导入数据"
   ]
  },
  {
   "cell_type": "markdown",
   "id": "threatened-grace",
   "metadata": {},
   "source": [
    "IMDB 数据集也内置于 Keras 库。它已经过预处理：评论（单词序列）\n",
    "已经被转换为整数序列，其中每个整数代表字典中的某个单词。"
   ]
  },
  {
   "cell_type": "code",
   "execution_count": 2,
   "id": "independent-visitor",
   "metadata": {},
   "outputs": [],
   "source": [
    "import ssl\n",
    "from keras.datasets import imdb\n",
    "# 全局设置，对requests不生效\n",
    "ssl._create_default_https_context = ssl._create_unverified_context\n",
    "# 加载 IMDB 数据集\n",
    "(train_data, train_labels), (test_data, test_labels) = imdb.load_data(\n",
    " num_words=10000)"
   ]
  },
  {
   "cell_type": "markdown",
   "id": "prospective-spiritual",
   "metadata": {},
   "source": [
    "参数 num_words=10000 的意思是仅保留训练数据中前 10000 个最常出现的单词。"
   ]
  },
  {
   "cell_type": "markdown",
   "id": "specialized-arrow",
   "metadata": {},
   "source": [
    "train_data 和 test_data 这两个变量都是评论组成的列表，每条评论又是单词索引组成\n",
    "的列表（表示一系列单词）。train_labels 和 test_labels 都是 0 和 1 组成的列表，其中 0\n",
    "代表负面（negative），1 代表正面（positive）。"
   ]
  },
  {
   "cell_type": "markdown",
   "id": "mighty-density",
   "metadata": {},
   "source": [
    "## One-hot 编程"
   ]
  },
  {
   "cell_type": "markdown",
   "id": "wired-minority",
   "metadata": {},
   "source": [
    "对列表进行 one-hot 编码，将其转换为 0 和 1 组成的向量。举个例子，序列 [3, 5] 将会\n",
    "被转换为 10000 维向量，只有索引为 3 和 5 的元素是 1，其余元素都是 0。然后网络第\n",
    "一层可以用 Dense 层，它能够处理浮点数向量数据。"
   ]
  },
  {
   "cell_type": "code",
   "execution_count": 3,
   "id": "painted-semester",
   "metadata": {},
   "outputs": [],
   "source": [
    "import numpy as np\n",
    "def vectorize_sequences(sequences, dimension=10000):\n",
    "    results = np.zeros((len(sequences), dimension)) \n",
    "    for i, sequence in enumerate(sequences):\n",
    "        results[i, sequence] = 1. \n",
    "    return results\n",
    "x_train = vectorize_sequences(train_data) \n",
    "x_test = vectorize_sequences(test_data) \n",
    "# 样本现在变成了这样：\n",
    "#>>> x_train[0]\n",
    "#array([ 0., 1., 1., ..., 0., 0., 0.])\n",
    "\n",
    "# 还应该将标签向量化\n",
    "y_train = np.asarray(train_labels).astype('float32')\n",
    "y_test = np.asarray(test_labels).astype('float32')"
   ]
  },
  {
   "cell_type": "markdown",
   "id": "hungry-destiny",
   "metadata": {},
   "source": [
    "## 模型定义"
   ]
  },
  {
   "cell_type": "code",
   "execution_count": 4,
   "id": "controlled-dominant",
   "metadata": {},
   "outputs": [],
   "source": [
    "from keras import models\n",
    "from keras import layers\n",
    "model = models.Sequential()\n",
    "model.add(layers.Dense(16, activation='relu', input_shape=(10000,)))\n",
    "model.add(layers.Dense(16, activation='relu'))\n",
    "model.add(layers.Dense(1, activation='sigmoid'))"
   ]
  },
  {
   "cell_type": "markdown",
   "id": "muslim-incidence",
   "metadata": {},
   "source": [
    "## 留出验证集"
   ]
  },
  {
   "cell_type": "code",
   "execution_count": 13,
   "id": "naked-easter",
   "metadata": {},
   "outputs": [
    {
     "data": {
      "text/plain": [
       "(10000, 10000)"
      ]
     },
     "execution_count": 13,
     "metadata": {},
     "output_type": "execute_result"
    }
   ],
   "source": [
    "x_val = x_train[:10000]\n",
    "partial_x_train = x_train[10000:]\n",
    "y_val = y_train[:10000]\n",
    "partial_y_train = y_train[10000:]\n",
    "\n",
    "x_train.shape\n",
    "x_val.shape"
   ]
  },
  {
   "cell_type": "markdown",
   "id": "exterior-canadian",
   "metadata": {},
   "source": [
    "## 模型训练\n",
    "\n",
    "现在使用 512 个样本组成的小批量，将模型训练 20 个轮次（即对 x_train 和 y_train 两\n",
    "个张量中的所有样本进行 20 次迭代）。"
   ]
  },
  {
   "cell_type": "code",
   "execution_count": 44,
   "id": "chubby-label",
   "metadata": {},
   "outputs": [
    {
     "name": "stdout",
     "output_type": "stream",
     "text": [
      "Epoch 1/20\n",
      "30/30 [==============================] - 4s 93ms/step - loss: 0.5244 - acc: 0.7829 - val_loss: 0.3887 - val_acc: 0.8725\n",
      "Epoch 2/20\n",
      "30/30 [==============================] - 1s 28ms/step - loss: 0.3116 - acc: 0.8996 - val_loss: 0.3245 - val_acc: 0.8746\n",
      "Epoch 3/20\n",
      "30/30 [==============================] - 1s 23ms/step - loss: 0.2282 - acc: 0.9244 - val_loss: 0.2791 - val_acc: 0.8910\n",
      "Epoch 4/20\n",
      "30/30 [==============================] - 1s 23ms/step - loss: 0.1768 - acc: 0.9430 - val_loss: 0.2794 - val_acc: 0.8896\n",
      "Epoch 5/20\n",
      "30/30 [==============================] - 1s 23ms/step - loss: 0.1441 - acc: 0.9521 - val_loss: 0.2918 - val_acc: 0.8824\n",
      "Epoch 6/20\n",
      "30/30 [==============================] - 1s 30ms/step - loss: 0.1159 - acc: 0.9657 - val_loss: 0.3015 - val_acc: 0.8834\n",
      "Epoch 7/20\n",
      "30/30 [==============================] - 1s 25ms/step - loss: 0.0992 - acc: 0.9699 - val_loss: 0.3172 - val_acc: 0.8807\n",
      "Epoch 8/20\n",
      "30/30 [==============================] - 1s 24ms/step - loss: 0.0792 - acc: 0.9778 - val_loss: 0.3343 - val_acc: 0.8809\n",
      "Epoch 9/20\n",
      "30/30 [==============================] - 1s 24ms/step - loss: 0.0678 - acc: 0.9809 - val_loss: 0.3643 - val_acc: 0.8803\n",
      "Epoch 10/20\n",
      "30/30 [==============================] - 1s 25ms/step - loss: 0.0519 - acc: 0.9873 - val_loss: 0.3903 - val_acc: 0.8779\n",
      "Epoch 11/20\n",
      "30/30 [==============================] - 1s 35ms/step - loss: 0.0454 - acc: 0.9893 - val_loss: 0.4174 - val_acc: 0.8746\n",
      "Epoch 12/20\n",
      "30/30 [==============================] - 1s 33ms/step - loss: 0.0364 - acc: 0.9917 - val_loss: 0.4481 - val_acc: 0.8747\n",
      "Epoch 13/20\n",
      "30/30 [==============================] - 1s 25ms/step - loss: 0.0290 - acc: 0.9938 - val_loss: 0.5199 - val_acc: 0.8674\n",
      "Epoch 14/20\n",
      "30/30 [==============================] - 1s 24ms/step - loss: 0.0233 - acc: 0.9957 - val_loss: 0.5181 - val_acc: 0.8726\n",
      "Epoch 15/20\n",
      "30/30 [==============================] - 1s 31ms/step - loss: 0.0205 - acc: 0.9963 - val_loss: 0.5491 - val_acc: 0.8700\n",
      "Epoch 16/20\n",
      "30/30 [==============================] - 1s 25ms/step - loss: 0.0122 - acc: 0.9984 - val_loss: 0.5810 - val_acc: 0.8671\n",
      "Epoch 17/20\n",
      "30/30 [==============================] - 1s 26ms/step - loss: 0.0124 - acc: 0.9983 - val_loss: 0.6153 - val_acc: 0.8655\n",
      "Epoch 18/20\n",
      "30/30 [==============================] - 1s 27ms/step - loss: 0.0071 - acc: 0.9995 - val_loss: 0.6563 - val_acc: 0.8686\n",
      "Epoch 19/20\n",
      "30/30 [==============================] - 1s 27ms/step - loss: 0.0078 - acc: 0.9986 - val_loss: 0.6889 - val_acc: 0.8665\n",
      "Epoch 20/20\n",
      "30/30 [==============================] - 1s 47ms/step - loss: 0.0082 - acc: 0.9985 - val_loss: 0.7268 - val_acc: 0.8649\n"
     ]
    }
   ],
   "source": [
    "model.compile(optimizer='rmsprop',\n",
    "    loss='binary_crossentropy',\n",
    "    metrics=['acc'])\n",
    "history = model.fit(partial_x_train,\n",
    "    partial_y_train,\n",
    "    epochs=20,\n",
    "    batch_size=512,\n",
    "    validation_data=(x_val, y_val))"
   ]
  },
  {
   "cell_type": "markdown",
   "id": "confused-indicator",
   "metadata": {},
   "source": [
    "## 绘制训练损失和验证损失"
   ]
  },
  {
   "cell_type": "code",
   "execution_count": 45,
   "id": "delayed-colorado",
   "metadata": {},
   "outputs": [
    {
     "data": {
      "image/png": "[encoded data removed]",
      "text/plain": [
       "<Figure size 432x288 with 1 Axes>"
      ]
     },
     "metadata": {
      "needs_background": "light"
     },
     "output_type": "display_data"
    }
   ],
   "source": [
    "import matplotlib.pyplot as plt\n",
    "\n",
    "history_dict = history.history\n",
    "loss_values = history_dict['loss']\n",
    "val_loss_values = history_dict['val_loss']\n",
    "\n",
    "epochs = range(1, len(loss_values) + 1)\n",
    "\n",
    "plt.plot(epochs, loss_values, 'bo', label='Training loss') \n",
    "plt.plot(epochs, val_loss_values, 'b', label='Validation loss') \n",
    "plt.title('Training and validation loss')\n",
    "plt.xlabel('Epochs')\n",
    "plt.ylabel('Loss')\n",
    "plt.legend()\n",
    "\n",
    "plt.show()"
   ]
  },
  {
   "cell_type": "markdown",
   "id": "certified-revolution",
   "metadata": {},
   "source": [
    "## 绘制训练精度和验证精度"
   ]
  },
  {
   "cell_type": "code",
   "execution_count": 46,
   "id": "colonial-structure",
   "metadata": {},
   "outputs": [
    {
     "data": {
      "image/png": "[encoded data removed]",
      "text/plain": [
       "<Figure size 432x288 with 1 Axes>"
      ]
     },
     "metadata": {
      "needs_background": "light"
     },
     "output_type": "display_data"
    }
   ],
   "source": [
    "plt.clf() \n",
    "acc = history_dict['acc'] \n",
    "val_acc = history_dict['val_acc']\n",
    "\n",
    "plt.plot(epochs, acc, 'bo', label='Training acc')\n",
    "plt.plot(epochs, val_acc, 'b', label='Validation acc')\n",
    "plt.title('Training and validation accuracy')\n",
    "plt.xlabel('Epochs')\n",
    "plt.ylabel('Accuracy')\n",
    "plt.legend()\n",
    "\n",
    "plt.show()"
   ]
  },
  {
   "cell_type": "markdown",
   "id": "connected-species",
   "metadata": {},
   "source": [
    "## 重新开始"
   ]
  },
  {
   "cell_type": "code",
   "execution_count": null,
   "id": "empirical-water",
   "metadata": {},
   "outputs": [],
   "source": [
    "model = models.Sequential()\n",
    "model.add(layers.Dense(16, activation='relu', input_shape=(10000,)))\n",
    "model.add(layers.Dense(16, activation='relu'))\n",
    "model.add(layers.Dense(1, activation='sigmoid'))\n",
    "\n",
    "model.compile(optimizer='rmsprop',\n",
    "    loss='binary_crossentropy',\n",
    "    metrics=['accuracy'])\n",
    "\n",
    "model.fit(x_train, y_train, epochs=4, batch_size=512)\n",
    "results = model.evaluate(x_test, y_test)\n",
    "\n",
    "model.summary()"
   ]
  },
  {
   "cell_type": "code",
   "execution_count": 50,
   "id": "controversial-ivory",
   "metadata": {},
   "outputs": [
    {
     "name": "stdout",
     "output_type": "stream",
     "text": [
      "Model: \"sequential_9\"\n",
      "_________________________________________________________________\n",
      " Layer (type)                Output Shape              Param #   \n",
      "=================================================================\n",
      " dense_17 (Dense)            (None, 16)                160016    \n",
      "                                                                 \n",
      " dense_18 (Dense)            (None, 16)                272       \n",
      "                                                                 \n",
      " dense_19 (Dense)            (None, 1)                 17        \n",
      "                                                                 \n",
      "=================================================================\n",
      "Total params: 160,305\n",
      "Trainable params: 160,305\n",
      "Non-trainable params: 0\n",
      "_________________________________________________________________\n",
      "Model: \"sequential_10\"\n",
      "_________________________________________________________________\n",
      " Layer (type)                Output Shape              Param #   \n",
      "=================================================================\n",
      " embedding_5 (Embedding)     (None, None, 32)          320000    \n",
      "                                                                 \n",
      " bidirectional_5 (Bidirectio  (None, 64)               16640     \n",
      " nal)                                                            \n",
      "                                                                 \n",
      " dense_20 (Dense)            (None, 1)                 65        \n",
      "                                                                 \n",
      "=================================================================\n",
      "Total params: 336,705\n",
      "Trainable params: 336,705\n",
      "Non-trainable params: 0\n",
      "_________________________________________________________________\n"
     ]
    }
   ],
   "source": [
    "model.summary()\n",
    "\n",
    "model2.summary()"
   ]
  },
  {
   "cell_type": "markdown",
   "id": "incomplete-socket",
   "metadata": {},
   "source": [
    "这种相当简单的方法得到了 88% 的精度。"
   ]
  },
  {
   "cell_type": "markdown",
   "id": "false-soundtrack",
   "metadata": {},
   "source": [
    "## 进一步的改进：训练并评估一个双向 LSTM"
   ]
  },
  {
   "cell_type": "code",
   "execution_count": 18,
   "id": "cardiac-cologne",
   "metadata": {},
   "outputs": [
    {
     "data": {
      "text/plain": [
       "(10000,)"
      ]
     },
     "execution_count": 18,
     "metadata": {},
     "output_type": "execute_result"
    }
   ],
   "source": [
    "#from keras.datasets import imdb\n",
    "#from keras.preprocessing import sequence\n",
    "#from keras import layers\n",
    "#from keras.models import Sequential\n",
    "import keras\n",
    "\n",
    "# 作为特征的单词个数\n",
    "max_features = 10000 \n",
    "\n",
    "# 在这么多单词之后截断文本（这些单词都属于前 max_features 个最常见的单词）\n",
    "maxlen = 500 \n",
    "\n",
    "# 加载数据\n",
    "(x_train, y_train), (x_test, y_test) = imdb.load_data(\n",
    " num_words=max_features) \n",
    "\n",
    "# 将序列反转\n",
    "x_train = [x[::-1] for x in x_train] \n",
    "x_test = [x[::-1] for x in x_test]\n",
    "\n",
    "# 填充序列\n",
    "x_train = keras.utils.pad_sequences(x_train, maxlen=maxlen) \n",
    "x_test = keras.utils.pad_sequences(x_test, maxlen=maxlen)\n",
    "\n",
    "model2 = models.Sequential() \n",
    "model2.add(layers.Embedding(max_features, 32)) \n",
    "model2.add(layers.Bidirectional(layers.LSTM(32))) \n",
    "model2.add(layers.Dense(1, activation='sigmoid'))\n",
    "model2.compile(optimizer='rmsprop', loss='binary_crossentropy', metrics=['acc']) \n",
    "#history2 = model2.fit(x_train, y_train,\n",
    "    #epochs=10, \n",
    "    #batch_size=128, \n",
    "    #validation_split=0.2)\n",
    "\n",
    "#x_train.shape\n",
    "#x_val.shape\n",
    "#y_val.shape"
   ]
  },
  {
   "cell_type": "markdown",
   "id": "rural-iraqi",
   "metadata": {},
   "source": [
    "## 绘制对比图"
   ]
  },
  {
   "cell_type": "code",
   "execution_count": null,
   "id": "likely-orleans",
   "metadata": {},
   "outputs": [],
   "source": [
    "import matplotlib.pyplot as plt\n",
    "\n",
    "history_dict,history2_dict = history.history,history2.history\n",
    "loss_values,loss_values2 = history_dict['loss'],history2_dict['loss']\n",
    "val_loss_values,val_loss_values2 = history_dict['val_loss'],history2_dict['val_loss']\n",
    "\n",
    "epochs = range(1, len(loss_values) + 1)\n",
    "epochs2 = range(1, len(loss_values2) + 1)\n",
    "\n",
    "plt.plot(epochs, loss_values, 'bo', label='Training loss of stacked RNN') \n",
    "plt.plot(epochs, val_loss_values, 'b', label='Validation loss of stacked-RNN') \n",
    "plt.plot(epochs2, loss_values2, 'ro', label='Training loss of bi-RNN') \n",
    "plt.plot(epochs2, val_loss_values2, 'r', label='Validation loss of bi-RNN') \n",
    "plt.title('Training and validation loss')\n",
    "plt.xlabel('Epochs')\n",
    "plt.ylabel('Loss')\n",
    "plt.legend()\n",
    "\n",
    "plt.show()"
   ]
  },
  {
   "cell_type": "code",
   "execution_count": null,
   "id": "variable-pierre",
   "metadata": {},
   "outputs": [],
   "source": [
    "plt.clf() \n",
    "acc,acc2 = history_dict['acc'],history2_dict['acc'] \n",
    "val_acc,val_acc2 = history_dict['val_acc'],history2_dict['val_acc']\n",
    "\n",
    "plt.plot(epochs, acc, 'bo', label='Training acc of stacked RNN')\n",
    "plt.plot(epochs, val_acc, 'b', label='Validation acc of stacked RNN')\n",
    "plt.plot(epochs2, acc2, 'ro', label='Training acc of bi-RNN')\n",
    "plt.plot(epochs2, val_acc2, 'r', label='Validation acc of bi-RNN')\n",
    "plt.title('Training and validation accuracy')\n",
    "plt.xlabel('Epochs')\n",
    "plt.ylabel('Accuracy')\n",
    "plt.legend()\n",
    "\n",
    "plt.show()"
   ]
  },
  {
   "cell_type": "markdown",
   "id": "liberal-cardiff",
   "metadata": {},
   "source": [
    "_______________________\n",
    "_______________________\n",
    "_______________________\n",
    "_______________________"
   ]
  },
  {
   "cell_type": "code",
   "execution_count": 156,
   "id": "fresh-examination",
   "metadata": {},
   "outputs": [
    {
     "ename": "IndexError",
     "evalue": "index 5 is out of bounds for axis 1 with size 4",
     "output_type": "error",
     "traceback": [
      "\u001b[0;31m---------------------------------------------------------------------------\u001b[0m",
      "\u001b[0;31mIndexError\u001b[0m                                Traceback (most recent call last)",
      "\u001b[0;32m<ipython-input-156-78a5d8f3e079>\u001b[0m in \u001b[0;36m<module>\u001b[0;34m\u001b[0m\n\u001b[1;32m      8\u001b[0m \u001b[0;34m\u001b[0m\u001b[0m\n\u001b[1;32m      9\u001b[0m \u001b[0mx_train\u001b[0m \u001b[0;34m=\u001b[0m \u001b[0mx_train\u001b[0m\u001b[0;34m.\u001b[0m\u001b[0mreshape\u001b[0m\u001b[0;34m(\u001b[0m\u001b[0;36m60000\u001b[0m \u001b[0;34m,\u001b[0m \u001b[0;36m784\u001b[0m\u001b[0;34m)\u001b[0m\u001b[0;34m.\u001b[0m\u001b[0mastype\u001b[0m\u001b[0;34m(\u001b[0m\u001b[0;34m'float32'\u001b[0m\u001b[0;34m)\u001b[0m\u001b[0;34m/\u001b[0m\u001b[0;36m255\u001b[0m\u001b[0;34m\u001b[0m\u001b[0;34m\u001b[0m\u001b[0m\n\u001b[0;32m---> 10\u001b[0;31m \u001b[0my_train\u001b[0m \u001b[0;34m=\u001b[0m \u001b[0mto_categorical\u001b[0m\u001b[0;34m(\u001b[0m\u001b[0my_train\u001b[0m\u001b[0;34m,\u001b[0m \u001b[0mnum_classes\u001b[0m\u001b[0;34m=\u001b[0m\u001b[0;36m4\u001b[0m \u001b[0;34m)\u001b[0m\u001b[0;34m\u001b[0m\u001b[0;34m\u001b[0m\u001b[0m\n\u001b[0m\u001b[1;32m     11\u001b[0m \u001b[0;34m\u001b[0m\u001b[0m\n\u001b[1;32m     12\u001b[0m \u001b[0mmodel\u001b[0m \u001b[0;34m=\u001b[0m \u001b[0mtf\u001b[0m\u001b[0;34m.\u001b[0m\u001b[0mkeras\u001b[0m\u001b[0;34m.\u001b[0m\u001b[0mSequential\u001b[0m\u001b[0;34m(\u001b[0m \u001b[0;34m)\u001b[0m\u001b[0;34m\u001b[0m\u001b[0;34m\u001b[0m\u001b[0m\n",
      "\u001b[0;32m/Library/Frameworks/Python.framework/Versions/3.9/lib/python3.9/site-packages/keras/utils/np_utils.py\u001b[0m in \u001b[0;36mto_categorical\u001b[0;34m(y, num_classes, dtype)\u001b[0m\n\u001b[1;32m     69\u001b[0m   \u001b[0mn\u001b[0m \u001b[0;34m=\u001b[0m \u001b[0my\u001b[0m\u001b[0;34m.\u001b[0m\u001b[0mshape\u001b[0m\u001b[0;34m[\u001b[0m\u001b[0;36m0\u001b[0m\u001b[0;34m]\u001b[0m\u001b[0;34m\u001b[0m\u001b[0;34m\u001b[0m\u001b[0m\n\u001b[1;32m     70\u001b[0m   \u001b[0mcategorical\u001b[0m \u001b[0;34m=\u001b[0m \u001b[0mnp\u001b[0m\u001b[0;34m.\u001b[0m\u001b[0mzeros\u001b[0m\u001b[0;34m(\u001b[0m\u001b[0;34m(\u001b[0m\u001b[0mn\u001b[0m\u001b[0;34m,\u001b[0m \u001b[0mnum_classes\u001b[0m\u001b[0;34m)\u001b[0m\u001b[0;34m,\u001b[0m \u001b[0mdtype\u001b[0m\u001b[0;34m=\u001b[0m\u001b[0mdtype\u001b[0m\u001b[0;34m)\u001b[0m\u001b[0;34m\u001b[0m\u001b[0;34m\u001b[0m\u001b[0m\n\u001b[0;32m---> 71\u001b[0;31m   \u001b[0mcategorical\u001b[0m\u001b[0;34m[\u001b[0m\u001b[0mnp\u001b[0m\u001b[0;34m.\u001b[0m\u001b[0marange\u001b[0m\u001b[0;34m(\u001b[0m\u001b[0mn\u001b[0m\u001b[0;34m)\u001b[0m\u001b[0;34m,\u001b[0m \u001b[0my\u001b[0m\u001b[0;34m]\u001b[0m \u001b[0;34m=\u001b[0m \u001b[0;36m1\u001b[0m\u001b[0;34m\u001b[0m\u001b[0;34m\u001b[0m\u001b[0m\n\u001b[0m\u001b[1;32m     72\u001b[0m   \u001b[0moutput_shape\u001b[0m \u001b[0;34m=\u001b[0m \u001b[0minput_shape\u001b[0m \u001b[0;34m+\u001b[0m \u001b[0;34m(\u001b[0m\u001b[0mnum_classes\u001b[0m\u001b[0;34m,\u001b[0m\u001b[0;34m)\u001b[0m\u001b[0;34m\u001b[0m\u001b[0;34m\u001b[0m\u001b[0m\n\u001b[1;32m     73\u001b[0m   \u001b[0mcategorical\u001b[0m \u001b[0;34m=\u001b[0m \u001b[0mnp\u001b[0m\u001b[0;34m.\u001b[0m\u001b[0mreshape\u001b[0m\u001b[0;34m(\u001b[0m\u001b[0mcategorical\u001b[0m\u001b[0;34m,\u001b[0m \u001b[0moutput_shape\u001b[0m\u001b[0;34m)\u001b[0m\u001b[0;34m\u001b[0m\u001b[0;34m\u001b[0m\u001b[0m\n",
      "\u001b[0;31mIndexError\u001b[0m: index 5 is out of bounds for axis 1 with size 4"
     ]
    }
   ],
   "source": [
    "import tensorflow.compat.v1 as tf\n",
    "# 全局设置，对requests不生效\n",
    "ssl._create_default_https_context = ssl._create_unverified_context\n",
    "\n",
    "from tensorflow.keras.utils import to_categorical\n",
    "\n",
    "(x_train, y_train), _ = tf.keras.datasets.mnist.load_data( )\n",
    "\n",
    "x_train = x_train.reshape(60000 , 784).astype('float32')/255\n",
    "y_train = to_categorical(y_train, num_classes=4 )\n",
    "\n",
    "model = tf.keras.Sequential( )\n",
    "model.add(tf.keras.layers.Dense(4, activation='sigmoid',input_shape=(784, )))\n",
    "model.add(tf.keras.layers.Dense(4, activation='softmax'))\n",
    "\n",
    "model.compile(loss=\"categorical_crossentropy\", optimizer=\"sgd\" ,metrics = ['accuracy'])\n",
    "model.fit(x_train, y_train, epochs=10, verbose=0)"
   ]
  },
  {
   "cell_type": "code",
   "execution_count": 158,
   "id": "everyday-newman",
   "metadata": {},
   "outputs": [
    {
     "ename": "IndexError",
     "evalue": "index 7 is out of bounds for axis 1 with size 4",
     "output_type": "error",
     "traceback": [
      "\u001b[0;31m---------------------------------------------------------------------------\u001b[0m",
      "\u001b[0;31mIndexError\u001b[0m                                Traceback (most recent call last)",
      "\u001b[0;32m<ipython-input-158-a77e5204f0e1>\u001b[0m in \u001b[0;36m<module>\u001b[0;34m\u001b[0m\n\u001b[1;32m      3\u001b[0m \u001b[0m_\u001b[0m\u001b[0;34m,\u001b[0m \u001b[0;34m(\u001b[0m\u001b[0mx_test_\u001b[0m\u001b[0;34m,\u001b[0m \u001b[0my_test_\u001b[0m \u001b[0;34m)\u001b[0m\u001b[0;34m=\u001b[0m \u001b[0mtf\u001b[0m\u001b[0;34m.\u001b[0m\u001b[0mkeras\u001b[0m\u001b[0;34m.\u001b[0m\u001b[0mdatasets\u001b[0m\u001b[0;34m.\u001b[0m\u001b[0mmnist\u001b[0m\u001b[0;34m.\u001b[0m\u001b[0mload_data\u001b[0m\u001b[0;34m(\u001b[0m\u001b[0;34m)\u001b[0m\u001b[0;34m\u001b[0m\u001b[0;34m\u001b[0m\u001b[0m\n\u001b[1;32m      4\u001b[0m \u001b[0mx_test\u001b[0m \u001b[0;34m=\u001b[0m \u001b[0mx_test_\u001b[0m\u001b[0;34m.\u001b[0m\u001b[0mreshape\u001b[0m\u001b[0;34m(\u001b[0m\u001b[0;36m10000\u001b[0m\u001b[0;34m,\u001b[0m \u001b[0;36m784\u001b[0m\u001b[0;34m)\u001b[0m\u001b[0;34m.\u001b[0m\u001b[0mastype\u001b[0m\u001b[0;34m(\u001b[0m\u001b[0;34m'float32'\u001b[0m\u001b[0;34m)\u001b[0m\u001b[0;34m/\u001b[0m\u001b[0;36m255\u001b[0m\u001b[0;34m\u001b[0m\u001b[0;34m\u001b[0m\u001b[0m\n\u001b[0;32m----> 5\u001b[0;31m \u001b[0my_test\u001b[0m \u001b[0;34m=\u001b[0m \u001b[0mto_categorical\u001b[0m\u001b[0;34m(\u001b[0m\u001b[0my_test_\u001b[0m \u001b[0;34m,\u001b[0m\u001b[0mnum_classes\u001b[0m\u001b[0;34m=\u001b[0m\u001b[0;36m4\u001b[0m\u001b[0;34m)\u001b[0m\u001b[0;34m\u001b[0m\u001b[0;34m\u001b[0m\u001b[0m\n\u001b[0m\u001b[1;32m      6\u001b[0m \u001b[0;34m\u001b[0m\u001b[0m\n\u001b[1;32m      7\u001b[0m \u001b[0mtest_loss\u001b[0m\u001b[0;34m,\u001b[0m \u001b[0mtest_acc\u001b[0m \u001b[0;34m=\u001b[0m \u001b[0mmodel\u001b[0m\u001b[0;34m.\u001b[0m\u001b[0mevaluate\u001b[0m\u001b[0;34m(\u001b[0m\u001b[0mx_test\u001b[0m\u001b[0;34m,\u001b[0m \u001b[0my_test\u001b[0m \u001b[0;34m)\u001b[0m\u001b[0;34m\u001b[0m\u001b[0;34m\u001b[0m\u001b[0m\n",
      "\u001b[0;32m/Library/Frameworks/Python.framework/Versions/3.9/lib/python3.9/site-packages/keras/utils/np_utils.py\u001b[0m in \u001b[0;36mto_categorical\u001b[0;34m(y, num_classes, dtype)\u001b[0m\n\u001b[1;32m     69\u001b[0m   \u001b[0mn\u001b[0m \u001b[0;34m=\u001b[0m \u001b[0my\u001b[0m\u001b[0;34m.\u001b[0m\u001b[0mshape\u001b[0m\u001b[0;34m[\u001b[0m\u001b[0;36m0\u001b[0m\u001b[0;34m]\u001b[0m\u001b[0;34m\u001b[0m\u001b[0;34m\u001b[0m\u001b[0m\n\u001b[1;32m     70\u001b[0m   \u001b[0mcategorical\u001b[0m \u001b[0;34m=\u001b[0m \u001b[0mnp\u001b[0m\u001b[0;34m.\u001b[0m\u001b[0mzeros\u001b[0m\u001b[0;34m(\u001b[0m\u001b[0;34m(\u001b[0m\u001b[0mn\u001b[0m\u001b[0;34m,\u001b[0m \u001b[0mnum_classes\u001b[0m\u001b[0;34m)\u001b[0m\u001b[0;34m,\u001b[0m \u001b[0mdtype\u001b[0m\u001b[0;34m=\u001b[0m\u001b[0mdtype\u001b[0m\u001b[0;34m)\u001b[0m\u001b[0;34m\u001b[0m\u001b[0;34m\u001b[0m\u001b[0m\n\u001b[0;32m---> 71\u001b[0;31m   \u001b[0mcategorical\u001b[0m\u001b[0;34m[\u001b[0m\u001b[0mnp\u001b[0m\u001b[0;34m.\u001b[0m\u001b[0marange\u001b[0m\u001b[0;34m(\u001b[0m\u001b[0mn\u001b[0m\u001b[0;34m)\u001b[0m\u001b[0;34m,\u001b[0m \u001b[0my\u001b[0m\u001b[0;34m]\u001b[0m \u001b[0;34m=\u001b[0m \u001b[0;36m1\u001b[0m\u001b[0;34m\u001b[0m\u001b[0;34m\u001b[0m\u001b[0m\n\u001b[0m\u001b[1;32m     72\u001b[0m   \u001b[0moutput_shape\u001b[0m \u001b[0;34m=\u001b[0m \u001b[0minput_shape\u001b[0m \u001b[0;34m+\u001b[0m \u001b[0;34m(\u001b[0m\u001b[0mnum_classes\u001b[0m\u001b[0;34m,\u001b[0m\u001b[0;34m)\u001b[0m\u001b[0;34m\u001b[0m\u001b[0;34m\u001b[0m\u001b[0m\n\u001b[1;32m     73\u001b[0m   \u001b[0mcategorical\u001b[0m \u001b[0;34m=\u001b[0m \u001b[0mnp\u001b[0m\u001b[0;34m.\u001b[0m\u001b[0mreshape\u001b[0m\u001b[0;34m(\u001b[0m\u001b[0mcategorical\u001b[0m\u001b[0;34m,\u001b[0m \u001b[0moutput_shape\u001b[0m\u001b[0;34m)\u001b[0m\u001b[0;34m\u001b[0m\u001b[0;34m\u001b[0m\u001b[0m\n",
      "\u001b[0;31mIndexError\u001b[0m: index 7 is out of bounds for axis 1 with size 4"
     ]
    }
   ],
   "source": [
    "import tensorflow.compat.v1 as tf\n",
    "\n",
    "_, (x_test_, y_test_ )= tf.keras.datasets.mnist.load_data()\n",
    "x_test = x_test_.reshape(10000, 784).astype('float32')/255\n",
    "y_test = to_categorical(y_test_ ,num_classes=10)\n",
    "\n",
    "test_loss, test_acc = model.evaluate(x_test, y_test )\n",
    "\n",
    "#test_loss \n",
    "test_acc "
   ]
  },
  {
   "cell_type": "code",
   "execution_count": 152,
   "id": "fewer-sweet",
   "metadata": {},
   "outputs": [
    {
     "data": {
      "image/png": "[encoded data removed]",
      "text/plain": [
       "<Figure size 432x288 with 1 Axes>"
      ]
     },
     "metadata": {
      "needs_background": "light"
     },
     "output_type": "display_data"
    }
   ],
   "source": [
    "image = 34\n",
    "_ =plt.imshow(x_test_[image], cmap=plt.cm.binary)"
   ]
  },
  {
   "cell_type": "code",
   "execution_count": 153,
   "id": "golden-chassis",
   "metadata": {},
   "outputs": [
    {
     "name": "stderr",
     "output_type": "stream",
     "text": [
      "/Library/Frameworks/Python.framework/Versions/3.9/lib/python3.9/site-packages/keras/engine/training_v1.py:2067: UserWarning: `Model.state_updates` will be removed in a future version. This property should not be used in TensorFlow 2.0, as `updates` are applied automatically.\n",
      "  updates=self.state_updates,\n"
     ]
    },
    {
     "name": "stdout",
     "output_type": "stream",
     "text": [
      "Model prediction:  7\n"
     ]
    }
   ],
   "source": [
    "import tensorflow.compat.v1 as tf\n",
    "\n",
    "import numpy as np\n",
    "prediction = model.predict(x_test)\n",
    "print(\"Model prediction: \", np.argmax(prediction[image]) )"
   ]
  },
  {
   "cell_type": "code",
   "execution_count": null,
   "id": "local-franchise",
   "metadata": {},
   "outputs": [],
   "source": []
  }
 ],
 "metadata": {
  "kernelspec": {
   "display_name": "Python 3",
   "language": "python",
   "name": "python3"
  },
  "language_info": {
   "codemirror_mode": {
    "name": "ipython",
    "version": 3
   },
   "file_extension": ".py",
   "mimetype": "text/x-python",
   "name": "python",
   "nbconvert_exporter": "python",
   "pygments_lexer": "ipython3",
   "version": "3.9.2"
  }
 },
 "nbformat": 4,
 "nbformat_minor": 5
}
