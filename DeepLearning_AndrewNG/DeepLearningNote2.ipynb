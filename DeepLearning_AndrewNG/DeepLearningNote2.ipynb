{
 "cells": [
  {
   "cell_type": "markdown",
   "id": "invalid-document",
   "metadata": {},
   "source": [
    "# 3 Computer Vision"
   ]
  },
  {
   "cell_type": "markdown",
   "id": "administrative-effect",
   "metadata": {},
   "source": [
    "Convolution operation is the building block of a convolutional neural network.\n",
    "\n",
    "e.g. vertical edge detection: $[1,1,1;0,0,0;-1,-1,-1]$. And horizontal edge detection is transoposed."
   ]
  },
  {
   "cell_type": "markdown",
   "id": "accurate-native",
   "metadata": {},
   "source": [
    "## 3.1 Padding\n",
    "\n",
    "**Problem**\n",
    "1. shrink output\n",
    "2. throw away info form edge\n",
    "\n",
    "**Padding (to fix the problem)**\n",
    "1. add the border with pixers 0\n",
    "\n"
   ]
  },
  {
   "cell_type": "markdown",
   "id": "needed-scout",
   "metadata": {},
   "source": [
    "**convolutions**\n",
    "1. valid Convolution ( no padding and we have the formula $n^2*f^2 \\implies (n-f+1)^2$ )\n",
    "2. Same Convolution ( Padding so as to get the same size and from the formula above **it's common to have odd-number filter**, which is f. )"
   ]
  },
  {
   "cell_type": "markdown",
   "id": "competent-collective",
   "metadata": {},
   "source": [
    "## 3.2 Strided convolution"
   ]
  },
  {
   "cell_type": "markdown",
   "id": "alike-definition",
   "metadata": {},
   "source": [
    "When $padding=p$ and $stride=s$, we have the formula\n",
    "$$ \\bigg[\\frac{n+2p-f}{s}+1\\bigg]\\times\\bigg[\\frac{n+2p-f}{s}+1\\bigg] \n",
    "$$"
   ]
  },
  {
   "cell_type": "markdown",
   "id": "approximate-doubt",
   "metadata": {},
   "source": [
    "## 3.3 General Convolution on cube and Implement of CNN"
   ]
  },
  {
   "cell_type": "markdown",
   "id": "aware-visitor",
   "metadata": {},
   "source": [
    "Here we describe the cube's shape in the following matter: height$\\times$width$\\times$#channels."
   ]
  },
  {
   "cell_type": "markdown",
   "id": "limited-charleston",
   "metadata": {},
   "source": [
    "Summary of formulas:\n",
    "1. for a single convolution:\n",
    "$$ (n\\times n\\times n_c) * (f\\times f\\times n_c) \\implies (n-f+1)\\times (n-f+1)\n",
    "$$\n",
    "\n",
    "2. formulas in CNN: (the dimension is erased in a tensor way)\n",
    "$$ hyper: f^{[l]}=filtered size, p^{[l]}=padding, s^{{l}}=striding, n_{c}^{[l]}=\\#filters\n",
    "$$\n",
    "$$ \\text{Each filter}=f^{[l]}\\times f^{[l]}\\times n_{c}^{[l-1]}\n",
    "$$\n",
    "$$ \\text{Weight $w^{[l]}$}=f^{[l]}\\times f^{[l]}\\times n_{c}^{[l-1]}\\times n_{c}^{[l]}\n",
    "$$\n",
    "$$ \\text{Bias $b^{[l]}$}=n_{c}^{[l]}\n",
    "$$\n",
    "and\n",
    "$$ Input: n_{H}^{[l-1]}\\times n_{W}^{[l-1]}\\times n_{C}^{[l-1]}\n",
    "$$\n",
    "$$ Output=\\text{Activation $a^{[l]}$}= (m\\times ) n_{H}^{[l]}\\times n_{W}^{[l]}\\times n_{C}^{[l]}\n",
    "$$\n",
    "\n",
    "3. realization:\n",
    "CONV Layer-- Logistic/Softmax (flatten the last vectors in order to make predictions)"
   ]
  },
  {
   "cell_type": "markdown",
   "id": "previous-richmond",
   "metadata": {},
   "source": [
    "## 3.4 Max Pooling Layer \n",
    "\n",
    "1. Hyper: $f$, $s$ and the intuition is that it just pools the most important features.\n",
    "2. $$ Input: n_{H}^{[l-1]}\\times n_{W}^{[l-1]}\\times n_{C}\n",
    "$$\n",
    "$$ Output=\\text{Activation $a^{[l]}$}= (m\\times ) n_{H}^{[l]}\\times n_{W}^{[l]}\\times n_{C}\n",
    "$$\n",
    "which is equal to $[\\frac{n_H-f}{s}+1]\\times[\\frac{n_w-f}{s}+1]\\times n_c$."
   ]
  },
  {
   "cell_type": "markdown",
   "id": "bizarre-beauty",
   "metadata": {},
   "source": [
    "## 3.5 Fully connected Layer \n",
    "\n",
    "Intuitively it's just a fully connected long line."
   ]
  },
  {
   "cell_type": "markdown",
   "id": "indoor-pension",
   "metadata": {},
   "source": [
    "## 3.6 some rules\n",
    "\n",
    "1. Deeper the CNN, $n_H$ and $n_w$ down and $n_c$ up and $\\#$activations down.\n",
    "2. some convetional patterns: CONV-POOL-CONV-POOL-CONV-POOL-FC-FC-FC-SOFTMAX"
   ]
  },
  {
   "cell_type": "code",
   "execution_count": null,
   "id": "successful-heather",
   "metadata": {},
   "outputs": [],
   "source": []
  },
  {
   "cell_type": "code",
   "execution_count": null,
   "id": "accompanied-plain",
   "metadata": {},
   "outputs": [],
   "source": []
  },
  {
   "cell_type": "code",
   "execution_count": null,
   "id": "patent-tattoo",
   "metadata": {},
   "outputs": [],
   "source": []
  },
  {
   "cell_type": "code",
   "execution_count": null,
   "id": "destroyed-algorithm",
   "metadata": {},
   "outputs": [],
   "source": []
  }
 ],
 "metadata": {
  "kernelspec": {
   "display_name": "Python 3",
   "language": "python",
   "name": "python3"
  },
  "language_info": {
   "codemirror_mode": {
    "name": "ipython",
    "version": 3
   },
   "file_extension": ".py",
   "mimetype": "text/x-python",
   "name": "python",
   "nbconvert_exporter": "python",
   "pygments_lexer": "ipython3",
   "version": "3.9.2"
  }
 },
 "nbformat": 4,
 "nbformat_minor": 5
}
